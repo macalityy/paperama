{
 "cells": [
  {
   "cell_type": "markdown",
   "metadata": {},
   "source": [
    "# Data Exploration\n",
    "## Sample Data"
   ]
  },
  {
   "cell_type": "code",
   "execution_count": 8,
   "metadata": {},
   "outputs": [
    {
     "data": {
      "text/html": [
       "<div>\n",
       "<style scoped>\n",
       "    .dataframe tbody tr th:only-of-type {\n",
       "        vertical-align: middle;\n",
       "    }\n",
       "\n",
       "    .dataframe tbody tr th {\n",
       "        vertical-align: top;\n",
       "    }\n",
       "\n",
       "    .dataframe thead th {\n",
       "        text-align: right;\n",
       "    }\n",
       "</style>\n",
       "<table border=\"1\" class=\"dataframe\">\n",
       "  <thead>\n",
       "    <tr style=\"text-align: right;\">\n",
       "      <th></th>\n",
       "      <th>EventID</th>\n",
       "      <th>publication</th>\n",
       "      <th>pubid</th>\n",
       "      <th>seqid</th>\n",
       "      <th>canonicalUrl</th>\n",
       "      <th>title</th>\n",
       "      <th>text</th>\n",
       "      <th>titleFingerprintJSON</th>\n",
       "      <th>textFingerprintJSON</th>\n",
       "      <th>cleanedTitle</th>\n",
       "    </tr>\n",
       "  </thead>\n",
       "  <tbody>\n",
       "    <tr>\n",
       "      <th>0</th>\n",
       "      <td>EventID</td>\n",
       "      <td>publication</td>\n",
       "      <td>pubid</td>\n",
       "      <td>seqid</td>\n",
       "      <td>canonicalUrl</td>\n",
       "      <td>title</td>\n",
       "      <td>text</td>\n",
       "      <td>titleFingerprintJSON</td>\n",
       "      <td>textFingerprintJSON</td>\n",
       "      <td>cleanedTitle</td>\n",
       "    </tr>\n",
       "    <tr>\n",
       "      <th>1</th>\n",
       "      <td>0</td>\n",
       "      <td>fox5dc.com</td>\n",
       "      <td>630</td>\n",
       "      <td>68</td>\n",
       "      <td>fox5dc.com/news/politics/amid-tumult-trump-ral...</td>\n",
       "      <td>Trump renews attacks on 'fake, fake disgusting...</td>\n",
       "      <td>Dog and duck are BFF's Man dragged off Metro t...</td>\n",
       "      <td>{\"wordCounts\":{\"1239\":1,\"1257\":1,\"4068\":1,\"298...</td>\n",
       "      <td>{\"wordCounts\":{\"4431\":1,\"6298\":1,\"19605\":1,\"12...</td>\n",
       "      <td>Trump renews attacks on 'fake, fake disgusting...</td>\n",
       "    </tr>\n",
       "    <tr>\n",
       "      <th>2</th>\n",
       "      <td>0</td>\n",
       "      <td>marketwatch.com</td>\n",
       "      <td>43</td>\n",
       "      <td>328</td>\n",
       "      <td>marketwatch.com/story/citing-criticism-shes-fa...</td>\n",
       "      <td>Citing criticism she’s faced, Sarah Sanders do...</td>\n",
       "      <td>Reuters White House press secretary Sarah Sand...</td>\n",
       "      <td>{\"wordCounts\":{\"4527\":1,\"864\":1,\"2232\":1,\"6350...</td>\n",
       "      <td>{\"wordCounts\":{\"5435\":1,\"885\":2,\"969\":2,\"1724\"...</td>\n",
       "      <td>Citing criticism she’s faced, Sarah Sanders do...</td>\n",
       "    </tr>\n",
       "    <tr>\n",
       "      <th>3</th>\n",
       "      <td>0</td>\n",
       "      <td>foxnews.com</td>\n",
       "      <td>3</td>\n",
       "      <td>166</td>\n",
       "      <td>foxnews.com/politics/2018/08/02/trump-defends-...</td>\n",
       "      <td>Trump defends Russia and  meetings, attacks 'o...</td>\n",
       "      <td>Trump: We're getting border security or closin...</td>\n",
       "      <td>{\"wordCounts\":{\"1239\":1,\"1671\":1,\"3514\":1,\"272...</td>\n",
       "      <td>{\"wordCounts\":{\"1239\":19,\"31\":2,\"1336\":1,\"1305...</td>\n",
       "      <td>Trump defends Russia and meetings, attacks 'ov...</td>\n",
       "    </tr>\n",
       "    <tr>\n",
       "      <th>4</th>\n",
       "      <td>0</td>\n",
       "      <td>valleymorningstar.com</td>\n",
       "      <td>1862</td>\n",
       "      <td>104</td>\n",
       "      <td>valleymorningstar.com/entertainment/sanders-wo...</td>\n",
       "      <td>Sanders won't dispute claim that media is 'ene...</td>\n",
       "      <td>WASHINGTON (AP) — White House press secretary ...</td>\n",
       "      <td>{\"wordCounts\":{\"6352\":1,\"2914\":1,\"2966\":1,\"162...</td>\n",
       "      <td>{\"wordCounts\":{\"373\":1,\"3222\":1,\"885\":2,\"969\":...</td>\n",
       "      <td>Sanders won't dispute claim that media is 'ene...</td>\n",
       "    </tr>\n",
       "  </tbody>\n",
       "</table>\n",
       "</div>"
      ],
      "text/plain": [
       "   EventID            publication  pubid  seqid  \\\n",
       "0  EventID            publication  pubid  seqid   \n",
       "1        0             fox5dc.com    630     68   \n",
       "2        0        marketwatch.com     43    328   \n",
       "3        0            foxnews.com      3    166   \n",
       "4        0  valleymorningstar.com   1862    104   \n",
       "\n",
       "                                        canonicalUrl  \\\n",
       "0                                       canonicalUrl   \n",
       "1  fox5dc.com/news/politics/amid-tumult-trump-ral...   \n",
       "2  marketwatch.com/story/citing-criticism-shes-fa...   \n",
       "3  foxnews.com/politics/2018/08/02/trump-defends-...   \n",
       "4  valleymorningstar.com/entertainment/sanders-wo...   \n",
       "\n",
       "                                               title  \\\n",
       "0                                              title   \n",
       "1  Trump renews attacks on 'fake, fake disgusting...   \n",
       "2  Citing criticism she’s faced, Sarah Sanders do...   \n",
       "3  Trump defends Russia and  meetings, attacks 'o...   \n",
       "4  Sanders won't dispute claim that media is 'ene...   \n",
       "\n",
       "                                                text  \\\n",
       "0                                               text   \n",
       "1  Dog and duck are BFF's Man dragged off Metro t...   \n",
       "2  Reuters White House press secretary Sarah Sand...   \n",
       "3  Trump: We're getting border security or closin...   \n",
       "4  WASHINGTON (AP) — White House press secretary ...   \n",
       "\n",
       "                                titleFingerprintJSON  \\\n",
       "0                               titleFingerprintJSON   \n",
       "1  {\"wordCounts\":{\"1239\":1,\"1257\":1,\"4068\":1,\"298...   \n",
       "2  {\"wordCounts\":{\"4527\":1,\"864\":1,\"2232\":1,\"6350...   \n",
       "3  {\"wordCounts\":{\"1239\":1,\"1671\":1,\"3514\":1,\"272...   \n",
       "4  {\"wordCounts\":{\"6352\":1,\"2914\":1,\"2966\":1,\"162...   \n",
       "\n",
       "                                 textFingerprintJSON  \\\n",
       "0                                textFingerprintJSON   \n",
       "1  {\"wordCounts\":{\"4431\":1,\"6298\":1,\"19605\":1,\"12...   \n",
       "2  {\"wordCounts\":{\"5435\":1,\"885\":2,\"969\":2,\"1724\"...   \n",
       "3  {\"wordCounts\":{\"1239\":19,\"31\":2,\"1336\":1,\"1305...   \n",
       "4  {\"wordCounts\":{\"373\":1,\"3222\":1,\"885\":2,\"969\":...   \n",
       "\n",
       "                                        cleanedTitle  \n",
       "0                                       cleanedTitle  \n",
       "1  Trump renews attacks on 'fake, fake disgusting...  \n",
       "2  Citing criticism she’s faced, Sarah Sanders do...  \n",
       "3  Trump defends Russia and meetings, attacks 'ov...  \n",
       "4  Sanders won't dispute claim that media is 'ene...  "
      ]
     },
     "execution_count": 8,
     "metadata": {},
     "output_type": "execute_result"
    }
   ],
   "source": [
    "import pandas as pd\n",
    "import numpy as np\n",
    "import matplotlib.pyplot as plt\n",
    "\n",
    "df = pd.read_csv(\"data/news/USAEvents_OnlyUnigrams_2018_08_02_02_27_59/eventassignment.txt\", sep=\"\\t\", header=None, names=[\"EventID\",\"publication\",\"pubid\",\"seqid\",\"canonicalUrl\",\"title\",\"text\",\"titleFingerprintJSON\",\"textFingerprintJSON\",\"cleanedTitle\"])\n",
    "df.head()"
   ]
  },
  {
   "cell_type": "code",
   "execution_count": 9,
   "metadata": {},
   "outputs": [
    {
     "data": {
      "text/plain": [
       "Index(['EventID', 'publication', 'pubid', 'seqid', 'canonicalUrl', 'title',\n",
       "       'text', 'titleFingerprintJSON', 'textFingerprintJSON', 'cleanedTitle'],\n",
       "      dtype='object')"
      ]
     },
     "execution_count": 9,
     "metadata": {},
     "output_type": "execute_result"
    }
   ],
   "source": [
    "df.columns"
   ]
  },
  {
   "cell_type": "code",
   "execution_count": 10,
   "metadata": {},
   "outputs": [
    {
     "data": {
      "text/plain": [
       "count              38707\n",
       "unique              1920\n",
       "top       yahoo.com/news\n",
       "freq                 696\n",
       "Name: publication, dtype: object"
      ]
     },
     "execution_count": 10,
     "metadata": {},
     "output_type": "execute_result"
    }
   ],
   "source": [
    "df[\"publication\"].describe()"
   ]
  },
  {
   "cell_type": "markdown",
   "metadata": {},
   "source": [
    "## Publisher Descriptives"
   ]
  },
  {
   "cell_type": "code",
   "execution_count": 33,
   "metadata": {},
   "outputs": [
    {
     "data": {
      "text/plain": [
       "<matplotlib.axes._subplots.AxesSubplot at 0x120e4dd30>"
      ]
     },
     "execution_count": 33,
     "metadata": {},
     "output_type": "execute_result"
    },
    {
     "data": {
      "image/png": "[encoded data removed]",
      "text/plain": [
       "<Figure size 432x288 with 2 Axes>"
      ]
     },
     "metadata": {},
     "output_type": "display_data"
    }
   ],
   "source": [
    "publisher_size = df.groupby(\"publication\").size()\n",
    "\n",
    "ax = publisher_size.plot.kde()\n",
    "publisher_size.plot.hist(ax=ax, secondary_y = True)"
   ]
  },
  {
   "cell_type": "code",
   "execution_count": 38,
   "metadata": {},
   "outputs": [
    {
     "data": {
      "text/plain": [
       "(array([1.846e+03, 5.500e+01, 9.000e+00, 3.000e+00, 2.000e+00, 1.000e+00,\n",
       "        0.000e+00, 1.000e+00, 1.000e+00, 2.000e+00]),\n",
       " array([  1. ,  70.5, 140. , 209.5, 279. , 348.5, 418. , 487.5, 557. ,\n",
       "        626.5, 696. ]),\n",
       " <a list of 10 Patch objects>)"
      ]
     },
     "execution_count": 38,
     "metadata": {},
     "output_type": "execute_result"
    },
    {
     "data": {
      "image/png": "[encoded data removed]",
      "text/plain": [
       "<Figure size 432x288 with 1 Axes>"
      ]
     },
     "metadata": {},
     "output_type": "display_data"
    }
   ],
   "source": [
    "plt.hist(publisher_size, log = True)"
   ]
  },
  {
   "cell_type": "code",
   "execution_count": 22,
   "metadata": {},
   "outputs": [
    {
     "data": {
      "text/plain": [
       "<matplotlib.axes._subplots.AxesSubplot at 0x120be4a90>"
      ]
     },
     "execution_count": 22,
     "metadata": {},
     "output_type": "execute_result"
    },
    {
     "data": {
      "image/png": "[encoded data removed]",
      "text/plain": [
       "<Figure size 432x288 with 1 Axes>"
      ]
     },
     "metadata": {},
     "output_type": "display_data"
    }
   ],
   "source": [
    "publisher_size.nlargest(15).plot.bar()"
   ]
  },
  {
   "cell_type": "code",
   "execution_count": 48,
   "metadata": {},
   "outputs": [
    {
     "data": {
      "text/plain": [
       "125"
      ]
     },
     "execution_count": 48,
     "metadata": {},
     "output_type": "execute_result"
    }
   ],
   "source": [
    "publisher_size[publisher_size > 50].count()"
   ]
  },
  {
   "cell_type": "markdown",
   "metadata": {},
   "source": [
    "## Event Descriptives"
   ]
  },
  {
   "cell_type": "code",
   "execution_count": 11,
   "metadata": {},
   "outputs": [
    {
     "data": {
      "text/plain": [
       "count     38707\n",
       "unique     4748\n",
       "top           0\n",
       "freq       1159\n",
       "Name: EventID, dtype: object"
      ]
     },
     "execution_count": 11,
     "metadata": {},
     "output_type": "execute_result"
    }
   ],
   "source": [
    "df[\"EventID\"].describe()"
   ]
  }
 ],
 "metadata": {
  "kernelspec": {
   "display_name": "Python 3",
   "language": "python",
   "name": "python3"
  },
  "language_info": {
   "codemirror_mode": {
    "name": "ipython",
    "version": 3
   },
   "file_extension": ".py",
   "mimetype": "text/x-python",
   "name": "python",
   "nbconvert_exporter": "python",
   "pygments_lexer": "ipython3",
   "version": "3.6.5"
  }
 },
 "nbformat": 4,
 "nbformat_minor": 2
}
